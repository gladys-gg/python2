{
  "nbformat": 4,
  "nbformat_minor": 0,
  "metadata": {
    "colab": {
      "name": "python_assignments.ipynb",
      "provenance": [],
      "authorship_tag": "ABX9TyO93St09tXaGxox2fq9/CWW",
      "include_colab_link": true
    },
    "kernelspec": {
      "name": "python3",
      "display_name": "Python 3"
    },
    "language_info": {
      "name": "python"
    }
  },
  "cells": [
    {
      "cell_type": "markdown",
      "metadata": {
        "id": "view-in-github",
        "colab_type": "text"
      },
      "source": [
        "<a href=\"https://colab.research.google.com/github/gladys-gg/python2/blob/main/python_assignments.ipynb\" target=\"_parent\"><img src=\"https://colab.research.google.com/assets/colab-badge.svg\" alt=\"Open In Colab\"/></a>"
      ]
    },
    {
      "cell_type": "code",
      "metadata": {
        "id": "3Tiox7e_Q2Kk",
        "colab": {
          "base_uri": "https://localhost:8080/"
        },
        "outputId": "d70de6ce-2fbc-440e-89dc-0a8d1b09422f"
      },
      "source": [
        "#Write a Python program which accepts the user's first and last name and print them in reverse order with a space between them.\n",
        "first_name= input('Enter your First Name: ')\n",
        "last_name= input('Enter your Last Name: ')\n",
        "print('The name is: '+last_name+' '+first_name)\n",
        "\n"
      ],
      "execution_count": null,
      "outputs": [
        {
          "output_type": "stream",
          "name": "stdout",
          "text": [
            "Enter your First Name: kkk\n",
            "Enter your Last Name: ppp\n",
            "The name is: ppp kkk\n"
          ]
        }
      ]
    },
    {
      "cell_type": "code",
      "metadata": {
        "colab": {
          "base_uri": "https://localhost:8080/"
        },
        "id": "M6dDb9Pj-x2-",
        "outputId": "effb8f2a-847e-46aa-f46c-562ec53ebf82"
      },
      "source": [
        "#Write a Python program which accepts the radius of a circle from the user and compute the area.\n",
        "r= float(input('Enter the radius of the circle: '))\n",
        "PI=3.14\n",
        "area= PI*(r*r)\n",
        "circumference= 2*PI*r\n",
        "print('The area of a circle is= %.2f' %area) \n",
        "print('Circumference of a circle = %.2f' %circumference)\n",
        "\n"
      ],
      "execution_count": null,
      "outputs": [
        {
          "output_type": "stream",
          "name": "stdout",
          "text": [
            "Enter the radius of the circle: 5\n",
            "The area of a circle is= 78.50\n",
            "Circumference of a circle = 31.40\n"
          ]
        }
      ]
    },
    {
      "cell_type": "code",
      "metadata": {
        "colab": {
          "base_uri": "https://localhost:8080/"
        },
        "id": "F08vAobIBOJJ",
        "outputId": "fbbfa2ee-3457-46f5-cc40-cb63777c45e0"
      },
      "source": [
        "#Write a Python program which accepts the width and length of a rectangle from the user and compute the area and the periment of the rectangle.\n",
        "w= float(input('Enter the width of the rectangle: '))\n",
        "l= float(input('Enter the length of the rectangle: '))\n",
        "area= l*w\n",
        "perimeter= l+w+l+w\n",
        "print('Area Of a rectangle = %.2f' %area)\n",
        "print('Perimeter Of a rectangle = %.2f' %perimeter)"
      ],
      "execution_count": null,
      "outputs": [
        {
          "output_type": "stream",
          "name": "stdout",
          "text": [
            "Enter the width of the rectangle: 5\n",
            "Enter the length of the rectangle: 10\n",
            "Area Of a rectangle = 50.00\n",
            "Perimeter Of a rectangle = 30.00\n"
          ]
        }
      ]
    },
    {
      "cell_type": "code",
      "metadata": {
        "colab": {
          "base_uri": "https://localhost:8080/"
        },
        "id": "a_6-UQOUFOtS",
        "outputId": "df49dcce-1e9c-42ad-acfe-9637b0ff931e"
      },
      "source": [
        "#Write a Python program to get the Python version you are using.\n",
        "import sys\n",
        "print(\"Python version\")\n",
        "print (sys.version)\n"
      ],
      "execution_count": 2,
      "outputs": [
        {
          "output_type": "stream",
          "name": "stdout",
          "text": [
            "Python version\n",
            "3.7.12 (default, Sep 10 2021, 00:21:48) \n",
            "[GCC 7.5.0]\n"
          ]
        }
      ]
    }
  ]
}